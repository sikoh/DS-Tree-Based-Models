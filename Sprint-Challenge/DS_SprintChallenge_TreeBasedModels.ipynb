{
  "cells": [
    {
      "cell_type": "markdown",
      "metadata": {
        "id": "view-in-github",
        "colab_type": "text"
      },
      "source": [
        "<a href=\"https://colab.research.google.com/github/sikoh/DS-Tree-Based-Models/blob/main/Sprint-Challenge/DS_SprintChallenge_TreeBasedModels.ipynb\" target=\"_parent\"><img src=\"https://colab.research.google.com/assets/colab-badge.svg\" alt=\"Open In Colab\"/></a>"
      ]
    },
    {
      "cell_type": "markdown",
      "metadata": {
        "id": "jc_DMRapa3l-"
      },
      "source": [
        "👇 **Do not change the code in this cell.** If you're working in Google Colab, you can run this cell to install `category_encoders`."
      ]
    },
    {
      "cell_type": "code",
      "execution_count": 25,
      "metadata": {
        "deletable": false,
        "editable": false,
        "id": "-a7Lo3XiOUrH",
        "nbgrader": {
          "cell_type": "code",
          "checksum": "2cf805202878a43b6677e1d45ac4da6d",
          "grade": false,
          "grade_id": "cell-fd3a0dbfc4b9265f",
          "locked": true,
          "schema_version": 3,
          "solution": false,
          "task": false
        }
      },
      "outputs": [],
      "source": [
        "%%capture\n",
        "import sys\n",
        "\n",
        "if 'google.colab' in sys.modules:\n",
        "    # Install packages in Colab\n",
        "    !pip install category_encoders"
      ]
    },
    {
      "cell_type": "markdown",
      "metadata": {
        "deletable": false,
        "editable": false,
        "id": "VGLNhZO_OUrM",
        "nbgrader": {
          "cell_type": "markdown",
          "checksum": "88ba1fa9ea78f0afb94fcb9aa53f7435",
          "grade": false,
          "grade_id": "cell-d6eff2274645bd61",
          "locked": true,
          "schema_version": 3,
          "solution": false,
          "task": false
        }
      },
      "source": [
        "\n",
        "# Sprint Challenge: Predict Steph Curry's Shots 🏀\n",
        "\n",
        "For your Sprint Challenge, you'll use a dataset with all Steph Curry's NBA field goal attempts from October 2009 through June 2019 (regular season and playoffs). The dataset was collected with the [nba_api](https://github.com/swar/nba_api) Python library.\n",
        "\n",
        "You'll create a model to predict whether Curry will make a shot based on his past perfomance."
      ]
    },
    {
      "cell_type": "markdown",
      "metadata": {
        "deletable": false,
        "editable": false,
        "id": "K3xt9YTSOUrN",
        "nbgrader": {
          "cell_type": "markdown",
          "checksum": "746679bdefe8a36452807b584846628e",
          "grade": false,
          "grade_id": "cell-9aed6a1cff735430",
          "locked": true,
          "schema_version": 3,
          "solution": false,
          "task": false
        }
      },
      "source": [
        "# Directions\n",
        "\n",
        "This notebook contains 10 tasks, which cover the material we've learned in this sprint. Here's a summary:\n",
        "\n",
        "- **Task 1:** Importing data.\n",
        "- **Task 2:** Feature engineering.\n",
        "- **Task 3:** Splitting data into a feature matrix and target vector.\n",
        "- **Task 4:** Splitting data into training, validation, and test sets.\n",
        "- **Task 5:** Establishing baseline accuracy.\n",
        "- **Task 6:** Building a model with a transformer and a tree-based predictor.\n",
        "- **Task 7:** Calculating training and validation accuracy.\n",
        "- **Task 8 (`stretch goal`):** Tuning model hyperparameters.\n",
        "- **Task 9:** Calculating precision and recall from a confusion matrix.\n",
        "- **Task 10 (`stretch goal`):** Plotting a confusion matrix.\n",
        "\n",
        "For each task you should do the following:\n",
        "\n",
        "- Read the task instructions.\n",
        "- Write your code in the cell below the task. Delete the `raise\n",
        "NotImplementedError` before your start.\n",
        "- Run the testing cell below the task. If you get an error, read the error message and re-evaluate your code.\n",
        "\n",
        "**You should limit your code to the following libraries:**\n",
        "\n",
        "- `category_encoders`\n",
        "- `numpy`\n",
        "- `matplotlib`\n",
        "- `pandas`\n",
        "- `sklearn`\n",
        "\n"
      ]
    },
    {
      "cell_type": "markdown",
      "metadata": {
        "deletable": false,
        "editable": false,
        "id": "8CakIhmwOUrP",
        "nbgrader": {
          "cell_type": "markdown",
          "checksum": "eea5568a328ffc86470fc220567bfcd4",
          "grade": false,
          "grade_id": "cell-09a1516a86d168cc",
          "locked": true,
          "schema_version": 3,
          "solution": false,
          "task": false
        }
      },
      "source": [
        "# I. Wrangle Data\n",
        "\n",
        "**Task 1:** Change the code below to import your dataset. Be sure to examine the columns carefully and determine if one of them should be set at the index."
      ]
    },
    {
      "cell_type": "code",
      "source": [
        "import pandas as pd\n",
        "import numpy as np\n",
        "import matplotlib.pyplot as plt\n",
        "from category_encoders import OrdinalEncoder"
      ],
      "metadata": {
        "id": "lmn1lh4bcbUu"
      },
      "execution_count": 2,
      "outputs": []
    },
    {
      "cell_type": "code",
      "execution_count": 26,
      "metadata": {
        "deletable": false,
        "id": "NWVOhicLOUrQ",
        "nbgrader": {
          "cell_type": "code",
          "checksum": "3a6e0dfee7d760919c2fd0182e764b5f",
          "grade": false,
          "grade_id": "225SC_01a_q",
          "locked": false,
          "schema_version": 3,
          "solution": true,
          "task": false
        }
      },
      "outputs": [],
      "source": [
        "'''T1. Import DataFrame `df`'''\n",
        "\n",
        "import pandas as pd\n",
        "url = 'https://drive.google.com/uc?export=download&id=1fL7KPyxgGYfQDsuJoBWHIWwCAf-HTFpX'\n",
        "df = pd.read_csv(url)"
      ]
    },
    {
      "cell_type": "code",
      "source": [
        "df.head()"
      ],
      "metadata": {
        "colab": {
          "base_uri": "https://localhost:8080/",
          "height": 313
        },
        "id": "UJLr1ojEdbEc",
        "outputId": "c1eef173-303a-4c12-c12c-b5b1979e6693"
      },
      "execution_count": 27,
      "outputs": [
        {
          "output_type": "execute_result",
          "data": {
            "text/plain": [
              "    game_id  game_event_id    player_name  ...  vtm     season_type  scoremargin_before_shot\n",
              "0  20900015              4  Stephen Curry  ...  HOU  Regular Season                      2.0\n",
              "1  20900015             17  Stephen Curry  ...  HOU  Regular Season                      0.0\n",
              "2  20900015             53  Stephen Curry  ...  HOU  Regular Season                     -4.0\n",
              "3  20900015            141  Stephen Curry  ...  HOU  Regular Season                     -4.0\n",
              "4  20900015            249  Stephen Curry  ...  HOU  Regular Season                      0.0\n",
              "\n",
              "[5 rows x 20 columns]"
            ],
            "text/html": [
              "\n",
              "  <div id=\"df-9fc4a4e7-f8dd-4de4-9761-89473316beb4\" class=\"colab-df-container\">\n",
              "    <div>\n",
              "<style scoped>\n",
              "    .dataframe tbody tr th:only-of-type {\n",
              "        vertical-align: middle;\n",
              "    }\n",
              "\n",
              "    .dataframe tbody tr th {\n",
              "        vertical-align: top;\n",
              "    }\n",
              "\n",
              "    .dataframe thead th {\n",
              "        text-align: right;\n",
              "    }\n",
              "</style>\n",
              "<table border=\"1\" class=\"dataframe\">\n",
              "  <thead>\n",
              "    <tr style=\"text-align: right;\">\n",
              "      <th></th>\n",
              "      <th>game_id</th>\n",
              "      <th>game_event_id</th>\n",
              "      <th>player_name</th>\n",
              "      <th>period</th>\n",
              "      <th>minutes_remaining</th>\n",
              "      <th>seconds_remaining</th>\n",
              "      <th>action_type</th>\n",
              "      <th>shot_type</th>\n",
              "      <th>shot_zone_basic</th>\n",
              "      <th>shot_zone_area</th>\n",
              "      <th>shot_zone_range</th>\n",
              "      <th>shot_distance</th>\n",
              "      <th>loc_x</th>\n",
              "      <th>loc_y</th>\n",
              "      <th>shot_made_flag</th>\n",
              "      <th>game_date</th>\n",
              "      <th>htm</th>\n",
              "      <th>vtm</th>\n",
              "      <th>season_type</th>\n",
              "      <th>scoremargin_before_shot</th>\n",
              "    </tr>\n",
              "  </thead>\n",
              "  <tbody>\n",
              "    <tr>\n",
              "      <th>0</th>\n",
              "      <td>20900015</td>\n",
              "      <td>4</td>\n",
              "      <td>Stephen Curry</td>\n",
              "      <td>1</td>\n",
              "      <td>11</td>\n",
              "      <td>25</td>\n",
              "      <td>Jump Shot</td>\n",
              "      <td>3PT Field Goal</td>\n",
              "      <td>Above the Break 3</td>\n",
              "      <td>Right Side Center(RC)</td>\n",
              "      <td>24+ ft.</td>\n",
              "      <td>26</td>\n",
              "      <td>99</td>\n",
              "      <td>249</td>\n",
              "      <td>0</td>\n",
              "      <td>2009-10-28</td>\n",
              "      <td>GSW</td>\n",
              "      <td>HOU</td>\n",
              "      <td>Regular Season</td>\n",
              "      <td>2.0</td>\n",
              "    </tr>\n",
              "    <tr>\n",
              "      <th>1</th>\n",
              "      <td>20900015</td>\n",
              "      <td>17</td>\n",
              "      <td>Stephen Curry</td>\n",
              "      <td>1</td>\n",
              "      <td>9</td>\n",
              "      <td>31</td>\n",
              "      <td>Step Back Jump shot</td>\n",
              "      <td>2PT Field Goal</td>\n",
              "      <td>Mid-Range</td>\n",
              "      <td>Left Side Center(LC)</td>\n",
              "      <td>16-24 ft.</td>\n",
              "      <td>18</td>\n",
              "      <td>-122</td>\n",
              "      <td>145</td>\n",
              "      <td>1</td>\n",
              "      <td>2009-10-28</td>\n",
              "      <td>GSW</td>\n",
              "      <td>HOU</td>\n",
              "      <td>Regular Season</td>\n",
              "      <td>0.0</td>\n",
              "    </tr>\n",
              "    <tr>\n",
              "      <th>2</th>\n",
              "      <td>20900015</td>\n",
              "      <td>53</td>\n",
              "      <td>Stephen Curry</td>\n",
              "      <td>1</td>\n",
              "      <td>6</td>\n",
              "      <td>2</td>\n",
              "      <td>Jump Shot</td>\n",
              "      <td>2PT Field Goal</td>\n",
              "      <td>In The Paint (Non-RA)</td>\n",
              "      <td>Center(C)</td>\n",
              "      <td>8-16 ft.</td>\n",
              "      <td>14</td>\n",
              "      <td>-60</td>\n",
              "      <td>129</td>\n",
              "      <td>0</td>\n",
              "      <td>2009-10-28</td>\n",
              "      <td>GSW</td>\n",
              "      <td>HOU</td>\n",
              "      <td>Regular Season</td>\n",
              "      <td>-4.0</td>\n",
              "    </tr>\n",
              "    <tr>\n",
              "      <th>3</th>\n",
              "      <td>20900015</td>\n",
              "      <td>141</td>\n",
              "      <td>Stephen Curry</td>\n",
              "      <td>2</td>\n",
              "      <td>9</td>\n",
              "      <td>49</td>\n",
              "      <td>Jump Shot</td>\n",
              "      <td>2PT Field Goal</td>\n",
              "      <td>Mid-Range</td>\n",
              "      <td>Left Side(L)</td>\n",
              "      <td>16-24 ft.</td>\n",
              "      <td>19</td>\n",
              "      <td>-172</td>\n",
              "      <td>82</td>\n",
              "      <td>0</td>\n",
              "      <td>2009-10-28</td>\n",
              "      <td>GSW</td>\n",
              "      <td>HOU</td>\n",
              "      <td>Regular Season</td>\n",
              "      <td>-4.0</td>\n",
              "    </tr>\n",
              "    <tr>\n",
              "      <th>4</th>\n",
              "      <td>20900015</td>\n",
              "      <td>249</td>\n",
              "      <td>Stephen Curry</td>\n",
              "      <td>2</td>\n",
              "      <td>2</td>\n",
              "      <td>19</td>\n",
              "      <td>Jump Shot</td>\n",
              "      <td>2PT Field Goal</td>\n",
              "      <td>Mid-Range</td>\n",
              "      <td>Left Side Center(LC)</td>\n",
              "      <td>16-24 ft.</td>\n",
              "      <td>16</td>\n",
              "      <td>-68</td>\n",
              "      <td>148</td>\n",
              "      <td>0</td>\n",
              "      <td>2009-10-28</td>\n",
              "      <td>GSW</td>\n",
              "      <td>HOU</td>\n",
              "      <td>Regular Season</td>\n",
              "      <td>0.0</td>\n",
              "    </tr>\n",
              "  </tbody>\n",
              "</table>\n",
              "</div>\n",
              "    <div class=\"colab-df-buttons\">\n",
              "\n",
              "  <div class=\"colab-df-container\">\n",
              "    <button class=\"colab-df-convert\" onclick=\"convertToInteractive('df-9fc4a4e7-f8dd-4de4-9761-89473316beb4')\"\n",
              "            title=\"Convert this dataframe to an interactive table.\"\n",
              "            style=\"display:none;\">\n",
              "\n",
              "  <svg xmlns=\"http://www.w3.org/2000/svg\" height=\"24px\" viewBox=\"0 -960 960 960\">\n",
              "    <path d=\"M120-120v-720h720v720H120Zm60-500h600v-160H180v160Zm220 220h160v-160H400v160Zm0 220h160v-160H400v160ZM180-400h160v-160H180v160Zm440 0h160v-160H620v160ZM180-180h160v-160H180v160Zm440 0h160v-160H620v160Z\"/>\n",
              "  </svg>\n",
              "    </button>\n",
              "\n",
              "  <style>\n",
              "    .colab-df-container {\n",
              "      display:flex;\n",
              "      gap: 12px;\n",
              "    }\n",
              "\n",
              "    .colab-df-convert {\n",
              "      background-color: #E8F0FE;\n",
              "      border: none;\n",
              "      border-radius: 50%;\n",
              "      cursor: pointer;\n",
              "      display: none;\n",
              "      fill: #1967D2;\n",
              "      height: 32px;\n",
              "      padding: 0 0 0 0;\n",
              "      width: 32px;\n",
              "    }\n",
              "\n",
              "    .colab-df-convert:hover {\n",
              "      background-color: #E2EBFA;\n",
              "      box-shadow: 0px 1px 2px rgba(60, 64, 67, 0.3), 0px 1px 3px 1px rgba(60, 64, 67, 0.15);\n",
              "      fill: #174EA6;\n",
              "    }\n",
              "\n",
              "    .colab-df-buttons div {\n",
              "      margin-bottom: 4px;\n",
              "    }\n",
              "\n",
              "    [theme=dark] .colab-df-convert {\n",
              "      background-color: #3B4455;\n",
              "      fill: #D2E3FC;\n",
              "    }\n",
              "\n",
              "    [theme=dark] .colab-df-convert:hover {\n",
              "      background-color: #434B5C;\n",
              "      box-shadow: 0px 1px 3px 1px rgba(0, 0, 0, 0.15);\n",
              "      filter: drop-shadow(0px 1px 2px rgba(0, 0, 0, 0.3));\n",
              "      fill: #FFFFFF;\n",
              "    }\n",
              "  </style>\n",
              "\n",
              "    <script>\n",
              "      const buttonEl =\n",
              "        document.querySelector('#df-9fc4a4e7-f8dd-4de4-9761-89473316beb4 button.colab-df-convert');\n",
              "      buttonEl.style.display =\n",
              "        google.colab.kernel.accessAllowed ? 'block' : 'none';\n",
              "\n",
              "      async function convertToInteractive(key) {\n",
              "        const element = document.querySelector('#df-9fc4a4e7-f8dd-4de4-9761-89473316beb4');\n",
              "        const dataTable =\n",
              "          await google.colab.kernel.invokeFunction('convertToInteractive',\n",
              "                                                    [key], {});\n",
              "        if (!dataTable) return;\n",
              "\n",
              "        const docLinkHtml = 'Like what you see? Visit the ' +\n",
              "          '<a target=\"_blank\" href=https://colab.research.google.com/notebooks/data_table.ipynb>data table notebook</a>'\n",
              "          + ' to learn more about interactive tables.';\n",
              "        element.innerHTML = '';\n",
              "        dataTable['output_type'] = 'display_data';\n",
              "        await google.colab.output.renderOutput(dataTable, element);\n",
              "        const docLink = document.createElement('div');\n",
              "        docLink.innerHTML = docLinkHtml;\n",
              "        element.appendChild(docLink);\n",
              "      }\n",
              "    </script>\n",
              "  </div>\n",
              "\n",
              "\n",
              "<div id=\"df-4a97a76a-6f2b-4dae-a3a5-b764df54684c\">\n",
              "  <button class=\"colab-df-quickchart\" onclick=\"quickchart('df-4a97a76a-6f2b-4dae-a3a5-b764df54684c')\"\n",
              "            title=\"Suggest charts\"\n",
              "            style=\"display:none;\">\n",
              "\n",
              "<svg xmlns=\"http://www.w3.org/2000/svg\" height=\"24px\"viewBox=\"0 0 24 24\"\n",
              "     width=\"24px\">\n",
              "    <g>\n",
              "        <path d=\"M19 3H5c-1.1 0-2 .9-2 2v14c0 1.1.9 2 2 2h14c1.1 0 2-.9 2-2V5c0-1.1-.9-2-2-2zM9 17H7v-7h2v7zm4 0h-2V7h2v10zm4 0h-2v-4h2v4z\"/>\n",
              "    </g>\n",
              "</svg>\n",
              "  </button>\n",
              "\n",
              "<style>\n",
              "  .colab-df-quickchart {\n",
              "      --bg-color: #E8F0FE;\n",
              "      --fill-color: #1967D2;\n",
              "      --hover-bg-color: #E2EBFA;\n",
              "      --hover-fill-color: #174EA6;\n",
              "      --disabled-fill-color: #AAA;\n",
              "      --disabled-bg-color: #DDD;\n",
              "  }\n",
              "\n",
              "  [theme=dark] .colab-df-quickchart {\n",
              "      --bg-color: #3B4455;\n",
              "      --fill-color: #D2E3FC;\n",
              "      --hover-bg-color: #434B5C;\n",
              "      --hover-fill-color: #FFFFFF;\n",
              "      --disabled-bg-color: #3B4455;\n",
              "      --disabled-fill-color: #666;\n",
              "  }\n",
              "\n",
              "  .colab-df-quickchart {\n",
              "    background-color: var(--bg-color);\n",
              "    border: none;\n",
              "    border-radius: 50%;\n",
              "    cursor: pointer;\n",
              "    display: none;\n",
              "    fill: var(--fill-color);\n",
              "    height: 32px;\n",
              "    padding: 0;\n",
              "    width: 32px;\n",
              "  }\n",
              "\n",
              "  .colab-df-quickchart:hover {\n",
              "    background-color: var(--hover-bg-color);\n",
              "    box-shadow: 0 1px 2px rgba(60, 64, 67, 0.3), 0 1px 3px 1px rgba(60, 64, 67, 0.15);\n",
              "    fill: var(--button-hover-fill-color);\n",
              "  }\n",
              "\n",
              "  .colab-df-quickchart-complete:disabled,\n",
              "  .colab-df-quickchart-complete:disabled:hover {\n",
              "    background-color: var(--disabled-bg-color);\n",
              "    fill: var(--disabled-fill-color);\n",
              "    box-shadow: none;\n",
              "  }\n",
              "\n",
              "  .colab-df-spinner {\n",
              "    border: 2px solid var(--fill-color);\n",
              "    border-color: transparent;\n",
              "    border-bottom-color: var(--fill-color);\n",
              "    animation:\n",
              "      spin 1s steps(1) infinite;\n",
              "  }\n",
              "\n",
              "  @keyframes spin {\n",
              "    0% {\n",
              "      border-color: transparent;\n",
              "      border-bottom-color: var(--fill-color);\n",
              "      border-left-color: var(--fill-color);\n",
              "    }\n",
              "    20% {\n",
              "      border-color: transparent;\n",
              "      border-left-color: var(--fill-color);\n",
              "      border-top-color: var(--fill-color);\n",
              "    }\n",
              "    30% {\n",
              "      border-color: transparent;\n",
              "      border-left-color: var(--fill-color);\n",
              "      border-top-color: var(--fill-color);\n",
              "      border-right-color: var(--fill-color);\n",
              "    }\n",
              "    40% {\n",
              "      border-color: transparent;\n",
              "      border-right-color: var(--fill-color);\n",
              "      border-top-color: var(--fill-color);\n",
              "    }\n",
              "    60% {\n",
              "      border-color: transparent;\n",
              "      border-right-color: var(--fill-color);\n",
              "    }\n",
              "    80% {\n",
              "      border-color: transparent;\n",
              "      border-right-color: var(--fill-color);\n",
              "      border-bottom-color: var(--fill-color);\n",
              "    }\n",
              "    90% {\n",
              "      border-color: transparent;\n",
              "      border-bottom-color: var(--fill-color);\n",
              "    }\n",
              "  }\n",
              "</style>\n",
              "\n",
              "  <script>\n",
              "    async function quickchart(key) {\n",
              "      const quickchartButtonEl =\n",
              "        document.querySelector('#' + key + ' button');\n",
              "      quickchartButtonEl.disabled = true;  // To prevent multiple clicks.\n",
              "      quickchartButtonEl.classList.add('colab-df-spinner');\n",
              "      try {\n",
              "        const charts = await google.colab.kernel.invokeFunction(\n",
              "            'suggestCharts', [key], {});\n",
              "      } catch (error) {\n",
              "        console.error('Error during call to suggestCharts:', error);\n",
              "      }\n",
              "      quickchartButtonEl.classList.remove('colab-df-spinner');\n",
              "      quickchartButtonEl.classList.add('colab-df-quickchart-complete');\n",
              "    }\n",
              "    (() => {\n",
              "      let quickchartButtonEl =\n",
              "        document.querySelector('#df-4a97a76a-6f2b-4dae-a3a5-b764df54684c button');\n",
              "      quickchartButtonEl.style.display =\n",
              "        google.colab.kernel.accessAllowed ? 'block' : 'none';\n",
              "    })();\n",
              "  </script>\n",
              "</div>\n",
              "    </div>\n",
              "  </div>\n"
            ]
          },
          "metadata": {},
          "execution_count": 27
        }
      ]
    },
    {
      "cell_type": "code",
      "source": [
        "df.shape"
      ],
      "metadata": {
        "colab": {
          "base_uri": "https://localhost:8080/"
        },
        "id": "wB3R_TWxeXay",
        "outputId": "def11616-2f22-472f-9b1f-b2ff1ab46c41"
      },
      "execution_count": 28,
      "outputs": [
        {
          "output_type": "execute_result",
          "data": {
            "text/plain": [
              "(13958, 20)"
            ]
          },
          "metadata": {},
          "execution_count": 28
        }
      ]
    },
    {
      "cell_type": "code",
      "source": [
        "type(df['game_date'][0])"
      ],
      "metadata": {
        "colab": {
          "base_uri": "https://localhost:8080/"
        },
        "id": "d4tSk4P4ezaa",
        "outputId": "ba18a920-03a3-4d86-debb-f9129daabe75"
      },
      "execution_count": 29,
      "outputs": [
        {
          "output_type": "execute_result",
          "data": {
            "text/plain": [
              "str"
            ]
          },
          "metadata": {},
          "execution_count": 29
        }
      ]
    },
    {
      "cell_type": "code",
      "source": [
        "df['game_date'] = pd.to_datetime(df['game_date'])"
      ],
      "metadata": {
        "id": "KbWEdxGwfB2e"
      },
      "execution_count": 30,
      "outputs": []
    },
    {
      "cell_type": "code",
      "source": [
        "type(df['game_date'][0])"
      ],
      "metadata": {
        "colab": {
          "base_uri": "https://localhost:8080/"
        },
        "id": "abRFLoxrgGKe",
        "outputId": "61fc2aa1-6b06-4a23-ed80-9e6a36b70510"
      },
      "execution_count": 31,
      "outputs": [
        {
          "output_type": "execute_result",
          "data": {
            "text/plain": [
              "pandas._libs.tslibs.timestamps.Timestamp"
            ]
          },
          "metadata": {},
          "execution_count": 31
        }
      ]
    },
    {
      "cell_type": "code",
      "source": [
        "df.set_index('game_date', inplace=True)"
      ],
      "metadata": {
        "id": "OBTMWFTxi_ZY"
      },
      "execution_count": 32,
      "outputs": []
    },
    {
      "cell_type": "code",
      "execution_count": 33,
      "metadata": {
        "id": "nGZUbgm_a3mC",
        "colab": {
          "base_uri": "https://localhost:8080/"
        },
        "outputId": "77bd7f32-a8ec-49bb-ee61-994cb3b3c0ab"
      },
      "outputs": [
        {
          "output_type": "execute_result",
          "data": {
            "text/plain": [
              "pandas.core.indexes.datetimes.DatetimeIndex"
            ]
          },
          "metadata": {},
          "execution_count": 33
        }
      ],
      "source": [
        "type(df.index)"
      ]
    },
    {
      "cell_type": "code",
      "source": [
        "len(df)"
      ],
      "metadata": {
        "colab": {
          "base_uri": "https://localhost:8080/"
        },
        "id": "8tBBL3J0mhiT",
        "outputId": "3ee12404-c9d3-4680-f31f-d27806ee9ae1"
      },
      "execution_count": 34,
      "outputs": [
        {
          "output_type": "execute_result",
          "data": {
            "text/plain": [
              "13958"
            ]
          },
          "metadata": {},
          "execution_count": 34
        }
      ]
    },
    {
      "cell_type": "markdown",
      "metadata": {
        "deletable": false,
        "editable": false,
        "nbgrader": {
          "cell_type": "markdown",
          "checksum": "9d175018548e99ccb464c05bcd0a8aec",
          "grade": false,
          "grade_id": "cell-7738d198f39f8908",
          "locked": true,
          "schema_version": 3,
          "solution": false,
          "task": false
        },
        "id": "oYxl9a-ua3mC"
      },
      "source": [
        "**Task 1 Testing**"
      ]
    },
    {
      "cell_type": "code",
      "execution_count": null,
      "metadata": {
        "deletable": false,
        "editable": false,
        "nbgrader": {
          "cell_type": "code",
          "checksum": "5b221a1569fb4bb63422ef4860840fb6",
          "grade": true,
          "grade_id": "cell-6071eb9ae89cfaca",
          "locked": true,
          "points": 1,
          "schema_version": 3,
          "solution": false,
          "task": false
        },
        "id": "VifQoU0Fa3mC"
      },
      "outputs": [],
      "source": [
        "'''T1 Testing'''\n",
        "\n",
        "assert isinstance(df, pd.DataFrame), 'Have you created a DataFrame named `df`?'\n",
        "assert len(df) == 13958, 'Is `df` the correct length?'\n"
      ]
    },
    {
      "cell_type": "markdown",
      "metadata": {
        "deletable": false,
        "editable": false,
        "id": "1YaoMGLTOUrS",
        "nbgrader": {
          "cell_type": "markdown",
          "checksum": "a3b8a435c3baf7116b611f2e8de888e8",
          "grade": false,
          "grade_id": "cell-8490d284c49fed2c",
          "locked": true,
          "schema_version": 3,
          "solution": false,
          "task": false
        }
      },
      "source": [
        "**Task 2a:** Engineer at least 1 new feature. You can use something from the list below or your own idea.\n",
        "\n",
        "- **Homecourt Advantage**: Is the home team (`htm`) the Golden State Warriors (`GSW`) ?\n",
        "- **Opponent**: Who is the other team playing the Golden State Warriors?\n",
        "- **Seconds remaining in the period**: Combine minutes remaining with seconds remaining, to get the total number of seconds remaining in the period.\n",
        "- **Seconds remaining in the game**: Combine period, and seconds remaining in the period, to get the total number of seconds remaining in the game. A basketball game has 4 periods, each 12 minutes long.\n",
        "- **Made previous shot**: Was Steph Curry's previous shot successful?\n",
        "\n",
        "**Task 2b (`stretch goal — optional`):** Create a total of 3 new features, using your own ideas or the list above. Make sure you're not just duplicating features that are already in the feature matrix."
      ]
    },
    {
      "cell_type": "code",
      "execution_count": 18,
      "metadata": {
        "deletable": false,
        "id": "X_rdysSxOUrS",
        "nbgrader": {
          "cell_type": "code",
          "checksum": "b2678ff5b2c193d4af565689966550e8",
          "grade": false,
          "grade_id": "225SC_01b_q",
          "locked": false,
          "schema_version": 3,
          "solution": true,
          "task": false
        },
        "colab": {
          "base_uri": "https://localhost:8080/"
        },
        "outputId": "f3b11e48-6537-4161-b7fa-048386914f8f"
      },
      "outputs": [
        {
          "output_type": "execute_result",
          "data": {
            "text/plain": [
              "Index(['game_id', 'game_event_id', 'player_name', 'period',\n",
              "       'minutes_remaining', 'seconds_remaining', 'action_type', 'shot_type',\n",
              "       'shot_zone_basic', 'shot_zone_area', 'shot_zone_range', 'shot_distance',\n",
              "       'loc_x', 'loc_y', 'shot_made_flag', 'htm', 'vtm', 'season_type',\n",
              "       'scoremargin_before_shot'],\n",
              "      dtype='object')"
            ]
          },
          "metadata": {},
          "execution_count": 18
        }
      ],
      "source": [
        "\"\"\"T2. Create new feature\"\"\"\n",
        "\n",
        "df.columns"
      ]
    },
    {
      "cell_type": "code",
      "source": [
        "df.shape"
      ],
      "metadata": {
        "colab": {
          "base_uri": "https://localhost:8080/"
        },
        "id": "jjcXxCkvnNcg",
        "outputId": "bc52ebd0-3a48-4756-b95e-7b5ed2e646e3"
      },
      "execution_count": 35,
      "outputs": [
        {
          "output_type": "execute_result",
          "data": {
            "text/plain": [
              "(13958, 19)"
            ]
          },
          "metadata": {},
          "execution_count": 35
        }
      ]
    },
    {
      "cell_type": "code",
      "source": [
        "df['homecourt_advantage'] = df['htm'].apply(lambda x: 1 if x == 'GSW' else 0)\n",
        "df['seconds_remaining_period'] = df['minutes_remaining'] * 60 + df['seconds_remaining']\n",
        "df['seconds_remaining_game'] = ((4-df['period'])*12*60) + df['minutes_remaining'] * 60 + df['seconds_remaining']"
      ],
      "metadata": {
        "id": "OmugjA4Eqn5L"
      },
      "execution_count": 36,
      "outputs": []
    },
    {
      "cell_type": "code",
      "source": [
        "df.columns"
      ],
      "metadata": {
        "colab": {
          "base_uri": "https://localhost:8080/"
        },
        "id": "aTn4Z_gFv4EU",
        "outputId": "1163668d-838a-43fe-c15e-eaa329220578"
      },
      "execution_count": 37,
      "outputs": [
        {
          "output_type": "execute_result",
          "data": {
            "text/plain": [
              "Index(['game_id', 'game_event_id', 'player_name', 'period',\n",
              "       'minutes_remaining', 'seconds_remaining', 'action_type', 'shot_type',\n",
              "       'shot_zone_basic', 'shot_zone_area', 'shot_zone_range', 'shot_distance',\n",
              "       'loc_x', 'loc_y', 'shot_made_flag', 'htm', 'vtm', 'season_type',\n",
              "       'scoremargin_before_shot', 'homecourt_advantage',\n",
              "       'seconds_remaining_period', 'seconds_remaining_game'],\n",
              "      dtype='object')"
            ]
          },
          "metadata": {},
          "execution_count": 37
        }
      ]
    },
    {
      "cell_type": "code",
      "source": [
        "df.shape"
      ],
      "metadata": {
        "colab": {
          "base_uri": "https://localhost:8080/"
        },
        "id": "DrTYxfsluqg3",
        "outputId": "f0b68efa-3335-4e4d-8c05-6ea75b9804ef"
      },
      "execution_count": 38,
      "outputs": [
        {
          "output_type": "execute_result",
          "data": {
            "text/plain": [
              "(13958, 22)"
            ]
          },
          "metadata": {},
          "execution_count": 38
        }
      ]
    },
    {
      "cell_type": "markdown",
      "metadata": {
        "deletable": false,
        "editable": false,
        "id": "9JivGpcEOUrV",
        "nbgrader": {
          "cell_type": "markdown",
          "checksum": "18dbccc05e878201fa3b667e5937b755",
          "grade": false,
          "grade_id": "cell-58c684eafc846d48",
          "locked": true,
          "schema_version": 3,
          "solution": false,
          "task": false
        }
      },
      "source": [
        "**Task 2 Test**"
      ]
    },
    {
      "cell_type": "code",
      "execution_count": null,
      "metadata": {
        "deletable": false,
        "editable": false,
        "id": "700-jf3nOUrW",
        "nbgrader": {
          "cell_type": "code",
          "checksum": "188d989e0e75d8376d5dce4ca8ae3fd6",
          "grade": true,
          "grade_id": "225SC_01_a",
          "locked": true,
          "points": 1,
          "schema_version": 3,
          "solution": false,
          "task": false
        }
      },
      "outputs": [],
      "source": [
        "'''T2 Testing'''\n",
        "\n",
        "assert df.shape[1] >= 20, '`df` does not appear to have new features.'\n"
      ]
    },
    {
      "cell_type": "markdown",
      "metadata": {
        "deletable": false,
        "editable": false,
        "id": "Nh3whBpUOUrZ",
        "nbgrader": {
          "cell_type": "markdown",
          "checksum": "d4c27458bcc532324a3a506a1cf41a2c",
          "grade": false,
          "grade_id": "cell-965e44063af534b5",
          "locked": true,
          "schema_version": 3,
          "solution": false,
          "task": false
        }
      },
      "source": [
        "# II. Split Data\n",
        "\n",
        "**Task 3:** Divide the DataFrame `df` into the feature matrix `X` and the target vector `y`. Your target is `'shot_made_flag'`."
      ]
    },
    {
      "cell_type": "code",
      "execution_count": 39,
      "metadata": {
        "deletable": false,
        "id": "1S9T0AfMOUrZ",
        "nbgrader": {
          "cell_type": "code",
          "checksum": "0f30252ff9e8f3519a29d0364bb2f53b",
          "grade": false,
          "grade_id": "225SC_02a_q",
          "locked": false,
          "schema_version": 3,
          "solution": true,
          "task": false
        },
        "colab": {
          "base_uri": "https://localhost:8080/"
        },
        "outputId": "18d431d7-bf7d-4e8e-a2db-589f97c7456f"
      },
      "outputs": [
        {
          "output_type": "stream",
          "name": "stdout",
          "text": [
            "Baseline Accuracy Score:  0.5270812437311936\n"
          ]
        }
      ],
      "source": [
        "'''T3. Create `X` and `y`.'''\n",
        "target = 'shot_made_flag'\n",
        "y = df[target]\n",
        "X = df.drop(columns=target)\n",
        "print('Baseline Accuracy Score: ', df[target].value_counts(normalize=True).max())"
      ]
    },
    {
      "cell_type": "code",
      "source": [
        "y.shape, X.shape"
      ],
      "metadata": {
        "colab": {
          "base_uri": "https://localhost:8080/"
        },
        "id": "RCoEuuW3wmE3",
        "outputId": "389e02bb-3606-4f46-d30b-b11585d39ce5"
      },
      "execution_count": 40,
      "outputs": [
        {
          "output_type": "execute_result",
          "data": {
            "text/plain": [
              "((13958,), (13958, 21))"
            ]
          },
          "metadata": {},
          "execution_count": 40
        }
      ]
    },
    {
      "cell_type": "markdown",
      "metadata": {
        "deletable": false,
        "editable": false,
        "nbgrader": {
          "cell_type": "markdown",
          "checksum": "4e82cdb48c341d83735b201986c66813",
          "grade": false,
          "grade_id": "cell-6ad9cd44f4e272c6",
          "locked": true,
          "schema_version": 3,
          "solution": false,
          "task": false
        },
        "id": "HSs7G7UDa3mE"
      },
      "source": [
        "**Task 3 Test**"
      ]
    },
    {
      "cell_type": "code",
      "execution_count": null,
      "metadata": {
        "deletable": false,
        "editable": false,
        "nbgrader": {
          "cell_type": "code",
          "checksum": "a0c8ebd72a7b107af8a8cb73e3a1f530",
          "grade": true,
          "grade_id": "cell-1a89d8c845a9424c",
          "locked": true,
          "points": 1,
          "schema_version": 3,
          "solution": false,
          "task": false
        },
        "id": "70QeCBh5a3mE"
      },
      "outputs": [],
      "source": [
        "'''T3 Tests'''\n",
        "\n",
        "assert y.shape == (13958,), '`y` either has the wrong number of rows, or is two-dimentional.'\n",
        "assert len(X) == 13958, '`X` has the wrong number of rows.'\n",
        "assert X.shape[1] > 1, '`X` has the wrong number of columns'\n",
        "assert 'shot_made_flag' not in X.columns, 'Target is still part of feature matrix.'"
      ]
    },
    {
      "cell_type": "markdown",
      "metadata": {
        "deletable": false,
        "editable": false,
        "id": "YE1j6w2lOUrc",
        "nbgrader": {
          "cell_type": "markdown",
          "checksum": "efdf9f11506650d3ae868cf4811f8292",
          "grade": false,
          "grade_id": "cell-5f93454935747581",
          "locked": true,
          "schema_version": 3,
          "solution": false,
          "task": false
        }
      },
      "source": [
        "**Task 4:** Divide your dataset into training, validation, and test sets.\n",
        "\n",
        "- Your training set (`X_train`, `y_train`) should contain games from the 2009-10 season through the end of the 2016-17 season.\n",
        "- Your validation set (`X_val`, `y_val`) should contain games from the 2017-18 season.\n",
        "- Your test set (`X_test`, `y_test`) should contain games from the 2018-2019 season.\n",
        "- **Tip:** The NBA season begins in October and ends in June."
      ]
    },
    {
      "cell_type": "code",
      "source": [
        "#one way\n",
        "# mask_train = X.index < '2017-07-01'\n",
        "# mask_test = X.index > '2018-10-01'\n",
        "# mask_val = (X.index > '2017-10-01') & (X.index < '2018-09-01')\n",
        "# X_train, y_train = X[mask_train], y[mask_train]\n",
        "# X_test, y_test = X[mask_test], y[mask_test]\n",
        "# X_val, y_val = X[mask_val], y[mask_val]\n",
        "# X_train.shape, X_val.shape, X_test.shape"
      ],
      "metadata": {
        "colab": {
          "base_uri": "https://localhost:8080/"
        },
        "id": "gDDOslb76_Yg",
        "outputId": "071b48ac-85ac-47ee-ffdb-22f7c4b26979"
      },
      "execution_count": 45,
      "outputs": [
        {
          "output_type": "execute_result",
          "data": {
            "text/plain": [
              "((11081, 21), (1168, 21), (1709, 21))"
            ]
          },
          "metadata": {},
          "execution_count": 45
        }
      ]
    },
    {
      "cell_type": "code",
      "execution_count": 41,
      "metadata": {
        "deletable": false,
        "id": "9BvdaqRoOUrc",
        "nbgrader": {
          "cell_type": "code",
          "checksum": "a786d072437c2876b466722a64ff5085",
          "grade": false,
          "grade_id": "225SC_02b_q",
          "locked": false,
          "schema_version": 3,
          "solution": true,
          "task": false
        },
        "colab": {
          "base_uri": "https://localhost:8080/"
        },
        "outputId": "361091d9-0ea3-455f-e85d-a3cc5f3d9d15"
      },
      "outputs": [
        {
          "output_type": "execute_result",
          "data": {
            "text/plain": [
              "((11081, 21), (1168, 21), (1709, 21))"
            ]
          },
          "metadata": {},
          "execution_count": 41
        }
      ],
      "source": [
        "'''T4. Create training and val'''\n",
        "# another way\n",
        "cutoff = '2017-10-01'\n",
        "cut2 = '2018-10-01'\n",
        "\n",
        "X_train, y_train = X.loc[(X.index < cutoff)], y.loc[X.index < cutoff]\n",
        "X_val, y_val = X.loc[(X.index > cutoff) & (X.index < cut2)], y.loc[(X.index > cutoff) & (X.index < cut2)]\n",
        "X_test, y_test = X.loc[X.index > cut2], y.loc[X.index > cut2]\n",
        "\n",
        "X_train.shape, X_val.shape, X_test.shape"
      ]
    },
    {
      "cell_type": "markdown",
      "metadata": {
        "deletable": false,
        "editable": false,
        "id": "IfMncrzIOUre",
        "nbgrader": {
          "cell_type": "markdown",
          "checksum": "d7a7ca9cdb31cdddad5c680c31a0d947",
          "grade": false,
          "grade_id": "cell-025dae513375f87c",
          "locked": true,
          "schema_version": 3,
          "solution": false,
          "task": false
        }
      },
      "source": [
        "**Test 4**"
      ]
    },
    {
      "cell_type": "code",
      "execution_count": null,
      "metadata": {
        "deletable": false,
        "editable": false,
        "id": "MjBRCehWOUrf",
        "nbgrader": {
          "cell_type": "code",
          "checksum": "542e32df51f2c93a1f6676c076bbcaa6",
          "grade": true,
          "grade_id": "225SC_02_a",
          "locked": true,
          "points": 1,
          "schema_version": 3,
          "solution": false,
          "task": false
        }
      },
      "outputs": [],
      "source": [
        "'''T4 Tests'''\n",
        "assert len(X_train) == len(y_train) == 11081\n",
        "assert len(X_val) == len(y_val) == 1168\n",
        "assert len(X_test) == len(y_test) == 1709\n"
      ]
    },
    {
      "cell_type": "markdown",
      "metadata": {
        "deletable": false,
        "editable": false,
        "id": "8NYOGp4MOUrh",
        "nbgrader": {
          "cell_type": "markdown",
          "checksum": "416ca1511e492007ecf7e71ae9634237",
          "grade": false,
          "grade_id": "cell-28f236308828133c",
          "locked": true,
          "schema_version": 3,
          "solution": false,
          "task": false
        }
      },
      "source": [
        "# III. Establish Baseline\n",
        "\n",
        "**Task 5:** Establish the baseline accuracy score for this classification problem using your training set. Save the score to the variable `baseline_acc`."
      ]
    },
    {
      "cell_type": "code",
      "execution_count": 46,
      "metadata": {
        "deletable": false,
        "id": "6eZiCkSDOUri",
        "nbgrader": {
          "cell_type": "code",
          "checksum": "c28391427425a03d66b5e324e586f299",
          "grade": false,
          "grade_id": "225SC_03_q",
          "locked": false,
          "schema_version": 3,
          "solution": true,
          "task": false
        },
        "colab": {
          "base_uri": "https://localhost:8080/"
        },
        "outputId": "31e7bc86-5ab9-4692-a91d-4513562b4709"
      },
      "outputs": [
        {
          "output_type": "stream",
          "name": "stdout",
          "text": [
            "Baseline Accuracy: 0.5272087356736757\n"
          ]
        }
      ],
      "source": [
        "'''T5. Calculate baseline accuracy `baseline_acc`.'''\n",
        "\n",
        "# YOUR CODE HERE\n",
        "baseline_acc = y_train.value_counts(normalize=True).max()\n",
        "print('Baseline Accuracy:', baseline_acc)"
      ]
    },
    {
      "cell_type": "markdown",
      "metadata": {
        "deletable": false,
        "editable": false,
        "id": "seuVCNLfOUrk",
        "nbgrader": {
          "cell_type": "markdown",
          "checksum": "a0ef09195e90b4901f5d80da3babd310",
          "grade": false,
          "grade_id": "cell-a7dd0a3aa55b90e0",
          "locked": true,
          "schema_version": 3,
          "solution": false,
          "task": false
        }
      },
      "source": [
        "**Task 5 Testing**"
      ]
    },
    {
      "cell_type": "code",
      "execution_count": null,
      "metadata": {
        "deletable": false,
        "editable": false,
        "id": "qNO8Cc0oOUrl",
        "nbgrader": {
          "cell_type": "code",
          "checksum": "4b10c894698890e348e6d02c786d1e96",
          "grade": true,
          "grade_id": "225SC_03_a",
          "locked": true,
          "points": 1,
          "schema_version": 3,
          "solution": false,
          "task": false
        }
      },
      "outputs": [],
      "source": [
        "'''T5 Testing'''\n",
        "\n",
        "assert isinstance(baseline_acc, float)\n",
        "assert 0.0 <= baseline_acc <= 1.0\n"
      ]
    },
    {
      "cell_type": "markdown",
      "metadata": {
        "deletable": false,
        "editable": false,
        "id": "ZhvHv71JOUrn",
        "nbgrader": {
          "cell_type": "markdown",
          "checksum": "0373e6c6d748ecfb29c1638f8c93f33a",
          "grade": false,
          "grade_id": "cell-36a0288a6c00e795",
          "locked": true,
          "schema_version": 3,
          "solution": false,
          "task": false
        }
      },
      "source": [
        "# IV. Build Model\n",
        "\n",
        "**Task 6:** Build a model that includes (1) a transformer for categorical features and (2) a tree-based predictor. You should combine these two components (and any other pieces you think are necessary) in a pipeline named `model`. Be sure to fit your model to your training data."
      ]
    },
    {
      "cell_type": "code",
      "execution_count": 47,
      "metadata": {
        "deletable": false,
        "id": "UidpqqMwOUro",
        "nbgrader": {
          "cell_type": "code",
          "checksum": "3fc6b9e2872bf60a7b829741ab8d8774",
          "grade": false,
          "grade_id": "225SC_04_q",
          "locked": false,
          "schema_version": 3,
          "solution": true,
          "task": false
        }
      },
      "outputs": [],
      "source": [
        "'''T6. Build a pipeline `model` with encoder and tree-based predictor.'''\n",
        "from sklearn.impute import SimpleImputer\n",
        "from sklearn.pipeline import make_pipeline\n",
        "from sklearn.ensemble import RandomForestClassifier\n",
        "# YOUR CODE HERE\n",
        "model = make_pipeline(\n",
        "    OrdinalEncoder(),\n",
        "    SimpleImputer(strategy='mean'),\n",
        "    RandomForestClassifier(n_estimators=100, n_jobs=-1, random_state=42))\n",
        "\n",
        "model.fit(X_train, y_train);"
      ]
    },
    {
      "cell_type": "markdown",
      "metadata": {
        "deletable": false,
        "editable": false,
        "id": "BdBRcK50OUrq",
        "nbgrader": {
          "cell_type": "markdown",
          "checksum": "51f76ac7ea3fe7974c0b09203e95ea67",
          "grade": false,
          "grade_id": "cell-ab9483c995e69b66",
          "locked": true,
          "schema_version": 3,
          "solution": false,
          "task": false
        }
      },
      "source": [
        "**Task 6 Testing**"
      ]
    },
    {
      "cell_type": "code",
      "execution_count": null,
      "metadata": {
        "deletable": false,
        "editable": false,
        "id": "qw0oHcuQOUrr",
        "nbgrader": {
          "cell_type": "code",
          "checksum": "120cc78af9936eedd151799c30bb6f2f",
          "grade": true,
          "grade_id": "225SC_04_a",
          "locked": true,
          "points": 1,
          "schema_version": 3,
          "solution": false,
          "task": false
        }
      },
      "outputs": [],
      "source": [
        "'''T6 Testing'''\n",
        "\n",
        "from sklearn.pipeline import Pipeline\n",
        "assert isinstance(model, Pipeline), '`model` should be type `Pipeline`.'\n",
        "\n",
        "# Does `model` Pipeline have multiple components?\n",
        "assert len(model.named_steps.keys()) > 1, '`model` should have more than one component.'\n",
        "\n",
        "# Has `model` been trained?\n",
        "assert hasattr(model, 'classes_'), 'Have you trained `model`?'\n"
      ]
    },
    {
      "cell_type": "markdown",
      "metadata": {
        "deletable": false,
        "editable": false,
        "id": "k_A786FUOUrt",
        "nbgrader": {
          "cell_type": "markdown",
          "checksum": "b830a678806f0afb1fae00d3aae4019c",
          "grade": false,
          "grade_id": "cell-c4ae57b31cfead21",
          "locked": true,
          "schema_version": 3,
          "solution": false,
          "task": false
        }
      },
      "source": [
        "# V. Check Metrics\n",
        "\n",
        "**Task 7:** Check the training and validation accuracy of your model, and assign the scores to `train_acc` and `val_acc` respectively."
      ]
    },
    {
      "cell_type": "code",
      "execution_count": 48,
      "metadata": {
        "deletable": false,
        "id": "gHSZCmBhOUru",
        "nbgrader": {
          "cell_type": "code",
          "checksum": "57204172c2fe58d81276cfcb3fe2b88e",
          "grade": false,
          "grade_id": "225SC_05_q",
          "locked": false,
          "schema_version": 3,
          "solution": true,
          "task": false
        },
        "colab": {
          "base_uri": "https://localhost:8080/"
        },
        "outputId": "03bc91f8-47f3-4515-954e-6834a0194fce"
      },
      "outputs": [
        {
          "output_type": "stream",
          "name": "stdout",
          "text": [
            "Training Accuracy Score: 1.0\n",
            "Validation Accuracy Score: 0.5958904109589042\n"
          ]
        }
      ],
      "source": [
        "'''T7. Calculate train and test accuracy.'''\n",
        "\n",
        "# YOUR CODE HERE\n",
        "train_acc = model.score(X_train, y_train)\n",
        "val_acc = model.score(X_val, y_val)\n",
        "print('Training Accuracy Score:', train_acc)\n",
        "print('Validation Accuracy Score:', val_acc)"
      ]
    },
    {
      "cell_type": "code",
      "source": [
        "rf = model.named_steps['randomforestclassifier']\n",
        "importances = pd.Series(rf.feature_importances_, X_train.columns)\n",
        "n = 10\n",
        "plt.figure(figsize=(10,7))\n",
        "plt.title(f'Top {n} feature importances')\n",
        "importances.sort_values()[-n:].plot.barh();"
      ],
      "metadata": {
        "colab": {
          "base_uri": "https://localhost:8080/",
          "height": 622
        },
        "id": "DXpMiiIg-GpY",
        "outputId": "14e1a8a1-224c-4b55-ab66-bbdc4456107e"
      },
      "execution_count": 50,
      "outputs": [
        {
          "output_type": "display_data",
          "data": {
            "text/plain": [
              "<Figure size 1000x700 with 1 Axes>"
            ],
            "image/png": "[encoded data removed]"
          },
          "metadata": {}
        }
      ]
    },
    {
      "cell_type": "markdown",
      "metadata": {
        "deletable": false,
        "editable": false,
        "id": "cejPfZyvOUrw",
        "nbgrader": {
          "cell_type": "markdown",
          "checksum": "5f26eacfafe6f5b12083dfe93033add4",
          "grade": false,
          "grade_id": "cell-1c8ee42427653f95",
          "locked": true,
          "schema_version": 3,
          "solution": false,
          "task": false
        }
      },
      "source": [
        "**Task 7 Test**"
      ]
    },
    {
      "cell_type": "code",
      "execution_count": null,
      "metadata": {
        "deletable": false,
        "editable": false,
        "id": "6irQ3xW5OUrw",
        "nbgrader": {
          "cell_type": "code",
          "checksum": "c5f81eb42f3976b48fd0561541addb87",
          "grade": true,
          "grade_id": "225SC_05_a",
          "locked": true,
          "points": 1,
          "schema_version": 3,
          "solution": false,
          "task": false
        }
      },
      "outputs": [],
      "source": [
        "'''T7 Testing'''\n",
        "\n",
        "# Is `training_acc` a float between 0.0 and 1.0?\n",
        "assert isinstance(train_acc, float)\n",
        "assert 0.0 <= train_acc <= 1.0\n",
        "\n",
        "# Is `validation_acc` a float between 0.0 and 1.0?\n",
        "assert isinstance(val_acc, float)\n",
        "assert 0.0 <= val_acc <= 1.0\n"
      ]
    },
    {
      "cell_type": "markdown",
      "metadata": {
        "deletable": false,
        "editable": false,
        "nbgrader": {
          "cell_type": "markdown",
          "checksum": "26c6585ca7e1d35df0b4f509ad79ac41",
          "grade": false,
          "grade_id": "cell-40a154aa7afa5ce0",
          "locked": true,
          "schema_version": 3,
          "solution": false,
          "task": false
        },
        "id": "DMizNyAWa3mH"
      },
      "source": [
        "# VI. Tune Model\n",
        "\n",
        "**Task 8 (`stretch goal — optional`):** Using your training and validation sets as a guide, tune the hyperparameters of your model to see if you can improve its accuracy. You can perform your tuning \"by hand\" or using [`RandomizedSearchCV`](https://scikit-learn.org/stable/modules/generated/sklearn.model_selection.RandomizedSearchCV.html).\n",
        "\n",
        "- Important hyperparameters for all tree-based models: `max_depth`.\n",
        "- Important hyperparameters for random forest models: `n_estimators`, `max_samples`.\n",
        "- Important hyperparametes for gradient boosting tree models: `n_estimators`, `learning_rate`.\n",
        "- **TIP:** If you use `RandomizedSearchCV`, set `n_iter` to `3`. Any larger and the auto-grader will stop working.\n",
        "- **TIP:** Since you already created a validation set above, there is no need to do k-fold cross-validation here. Set `cv` to `None`.\n",
        "\n",
        "Once you're satisfied with your model's performance on the validation set (if you can get above `0.6`, you're doing good), calculate its accuracy with your test set. Assign the result to `test_acc`."
      ]
    },
    {
      "cell_type": "code",
      "source": [
        "'''T8. Tune model.'''\n",
        "from sklearn.model_selection import GridSearchCV, RandomizedSearchCV\n",
        "from scipy.stats import randint, uniform\n",
        "\n",
        "param_distributions = {\n",
        "    'randomforestclassifier__n_estimators':[50,80,100,150,200],\n",
        "    'randomforestclassifier__min_samples_leaf':[1,2,4],\n",
        "    'randomforestclassifier__max_features':['auto','sqrt'],\n",
        "    'randomforestclassifier__min_samples_split':[2,5,10]\n",
        "}\n",
        "search = RandomizedSearchCV(\n",
        "    model,\n",
        "    param_distributions,\n",
        "    n_iter=3,\n",
        "    scoring='accuracy',\n",
        "    verbose=10,\n",
        "    cv=None,\n",
        "    return_train_score=True,\n",
        "    n_jobs=-1\n",
        ")\n",
        "\n",
        "search.fit(X_train,y_train)"
      ],
      "metadata": {
        "colab": {
          "base_uri": "https://localhost:8080/",
          "height": 258
        },
        "id": "2gx1LJhNHAip",
        "outputId": "1c8f0821-02db-44a3-b7b2-c6b02d3fa85e"
      },
      "execution_count": 56,
      "outputs": [
        {
          "output_type": "stream",
          "name": "stdout",
          "text": [
            "Fitting 5 folds for each of 3 candidates, totalling 15 fits\n"
          ]
        },
        {
          "output_type": "stream",
          "name": "stderr",
          "text": [
            "/usr/local/lib/python3.10/dist-packages/sklearn/ensemble/_forest.py:424: FutureWarning: `max_features='auto'` has been deprecated in 1.1 and will be removed in 1.3. To keep the past behaviour, explicitly set `max_features='sqrt'` or remove this parameter as it is also the default value for RandomForestClassifiers and ExtraTreesClassifiers.\n",
            "  warn(\n"
          ]
        },
        {
          "output_type": "execute_result",
          "data": {
            "text/plain": [
              "RandomizedSearchCV(estimator=Pipeline(steps=[('ordinalencoder',\n",
              "                                              OrdinalEncoder(cols=['player_name',\n",
              "                                                                   'action_type',\n",
              "                                                                   'shot_type',\n",
              "                                                                   'shot_zone_basic',\n",
              "                                                                   'shot_zone_area',\n",
              "                                                                   'shot_zone_range',\n",
              "                                                                   'htm', 'vtm',\n",
              "                                                                   'season_type'],\n",
              "                                                             mapping=[{'col': 'player_name',\n",
              "                                                                       'data_type': dtype('O'),\n",
              "                                                                       'mapping': Stephen Curry    1\n",
              "NaN             -2\n",
              "dtype: int64},\n",
              "                                                                      {'col': 'action_type',\n",
              "                                                                       'data_type': dtype('O'),\n",
              "                                                                       'mapping...\n",
              "                                              RandomForestClassifier(n_jobs=-1,\n",
              "                                                                     random_state=42))]),\n",
              "                   n_iter=3, n_jobs=-1,\n",
              "                   param_distributions={'randomforestclassifier__max_features': ['auto',\n",
              "                                                                                 'sqrt'],\n",
              "                                        'randomforestclassifier__min_samples_leaf': [1,\n",
              "                                                                                     2,\n",
              "                                                                                     4],\n",
              "                                        'randomforestclassifier__min_samples_split': [2,\n",
              "                                                                                      5,\n",
              "                                                                                      10],\n",
              "                                        'randomforestclassifier__n_estimators': [50,\n",
              "                                                                                 80,\n",
              "                                                                                 100,\n",
              "                                                                                 150,\n",
              "                                                                                 200]},\n",
              "                   return_train_score=True, scoring='accuracy', verbose=10)"
            ],
            "text/html": [
              "<style>#sk-container-id-1 {color: black;background-color: white;}#sk-container-id-1 pre{padding: 0;}#sk-container-id-1 div.sk-toggleable {background-color: white;}#sk-container-id-1 label.sk-toggleable__label {cursor: pointer;display: block;width: 100%;margin-bottom: 0;padding: 0.3em;box-sizing: border-box;text-align: center;}#sk-container-id-1 label.sk-toggleable__label-arrow:before {content: \"▸\";float: left;margin-right: 0.25em;color: #696969;}#sk-container-id-1 label.sk-toggleable__label-arrow:hover:before {color: black;}#sk-container-id-1 div.sk-estimator:hover label.sk-toggleable__label-arrow:before {color: black;}#sk-container-id-1 div.sk-toggleable__content {max-height: 0;max-width: 0;overflow: hidden;text-align: left;background-color: #f0f8ff;}#sk-container-id-1 div.sk-toggleable__content pre {margin: 0.2em;color: black;border-radius: 0.25em;background-color: #f0f8ff;}#sk-container-id-1 input.sk-toggleable__control:checked~div.sk-toggleable__content {max-height: 200px;max-width: 100%;overflow: auto;}#sk-container-id-1 input.sk-toggleable__control:checked~label.sk-toggleable__label-arrow:before {content: \"▾\";}#sk-container-id-1 div.sk-estimator input.sk-toggleable__control:checked~label.sk-toggleable__label {background-color: #d4ebff;}#sk-container-id-1 div.sk-label input.sk-toggleable__control:checked~label.sk-toggleable__label {background-color: #d4ebff;}#sk-container-id-1 input.sk-hidden--visually {border: 0;clip: rect(1px 1px 1px 1px);clip: rect(1px, 1px, 1px, 1px);height: 1px;margin: -1px;overflow: hidden;padding: 0;position: absolute;width: 1px;}#sk-container-id-1 div.sk-estimator {font-family: monospace;background-color: #f0f8ff;border: 1px dotted black;border-radius: 0.25em;box-sizing: border-box;margin-bottom: 0.5em;}#sk-container-id-1 div.sk-estimator:hover {background-color: #d4ebff;}#sk-container-id-1 div.sk-parallel-item::after {content: \"\";width: 100%;border-bottom: 1px solid gray;flex-grow: 1;}#sk-container-id-1 div.sk-label:hover label.sk-toggleable__label {background-color: #d4ebff;}#sk-container-id-1 div.sk-serial::before {content: \"\";position: absolute;border-left: 1px solid gray;box-sizing: border-box;top: 0;bottom: 0;left: 50%;z-index: 0;}#sk-container-id-1 div.sk-serial {display: flex;flex-direction: column;align-items: center;background-color: white;padding-right: 0.2em;padding-left: 0.2em;position: relative;}#sk-container-id-1 div.sk-item {position: relative;z-index: 1;}#sk-container-id-1 div.sk-parallel {display: flex;align-items: stretch;justify-content: center;background-color: white;position: relative;}#sk-container-id-1 div.sk-item::before, #sk-container-id-1 div.sk-parallel-item::before {content: \"\";position: absolute;border-left: 1px solid gray;box-sizing: border-box;top: 0;bottom: 0;left: 50%;z-index: -1;}#sk-container-id-1 div.sk-parallel-item {display: flex;flex-direction: column;z-index: 1;position: relative;background-color: white;}#sk-container-id-1 div.sk-parallel-item:first-child::after {align-self: flex-end;width: 50%;}#sk-container-id-1 div.sk-parallel-item:last-child::after {align-self: flex-start;width: 50%;}#sk-container-id-1 div.sk-parallel-item:only-child::after {width: 0;}#sk-container-id-1 div.sk-dashed-wrapped {border: 1px dashed gray;margin: 0 0.4em 0.5em 0.4em;box-sizing: border-box;padding-bottom: 0.4em;background-color: white;}#sk-container-id-1 div.sk-label label {font-family: monospace;font-weight: bold;display: inline-block;line-height: 1.2em;}#sk-container-id-1 div.sk-label-container {text-align: center;}#sk-container-id-1 div.sk-container {/* jupyter's `normalize.less` sets `[hidden] { display: none; }` but bootstrap.min.css set `[hidden] { display: none !important; }` so we also need the `!important` here to be able to override the default hidden behavior on the sphinx rendered scikit-learn.org. See: https://github.com/scikit-learn/scikit-learn/issues/21755 */display: inline-block !important;position: relative;}#sk-container-id-1 div.sk-text-repr-fallback {display: none;}</style><div id=\"sk-container-id-1\" class=\"sk-top-container\"><div class=\"sk-text-repr-fallback\"><pre>RandomizedSearchCV(estimator=Pipeline(steps=[(&#x27;ordinalencoder&#x27;,\n",
              "                                              OrdinalEncoder(cols=[&#x27;player_name&#x27;,\n",
              "                                                                   &#x27;action_type&#x27;,\n",
              "                                                                   &#x27;shot_type&#x27;,\n",
              "                                                                   &#x27;shot_zone_basic&#x27;,\n",
              "                                                                   &#x27;shot_zone_area&#x27;,\n",
              "                                                                   &#x27;shot_zone_range&#x27;,\n",
              "                                                                   &#x27;htm&#x27;, &#x27;vtm&#x27;,\n",
              "                                                                   &#x27;season_type&#x27;],\n",
              "                                                             mapping=[{&#x27;col&#x27;: &#x27;player_name&#x27;,\n",
              "                                                                       &#x27;data_type&#x27;: dtype(&#x27;O&#x27;),\n",
              "                                                                       &#x27;mapping&#x27;: Stephen Curry    1\n",
              "NaN             -2\n",
              "dtype: int64},\n",
              "                                                                      {&#x27;col&#x27;: &#x27;action_type&#x27;,\n",
              "                                                                       &#x27;data_type&#x27;: dtype(&#x27;O&#x27;),\n",
              "                                                                       &#x27;mapping...\n",
              "                                              RandomForestClassifier(n_jobs=-1,\n",
              "                                                                     random_state=42))]),\n",
              "                   n_iter=3, n_jobs=-1,\n",
              "                   param_distributions={&#x27;randomforestclassifier__max_features&#x27;: [&#x27;auto&#x27;,\n",
              "                                                                                 &#x27;sqrt&#x27;],\n",
              "                                        &#x27;randomforestclassifier__min_samples_leaf&#x27;: [1,\n",
              "                                                                                     2,\n",
              "                                                                                     4],\n",
              "                                        &#x27;randomforestclassifier__min_samples_split&#x27;: [2,\n",
              "                                                                                      5,\n",
              "                                                                                      10],\n",
              "                                        &#x27;randomforestclassifier__n_estimators&#x27;: [50,\n",
              "                                                                                 80,\n",
              "                                                                                 100,\n",
              "                                                                                 150,\n",
              "                                                                                 200]},\n",
              "                   return_train_score=True, scoring=&#x27;accuracy&#x27;, verbose=10)</pre><b>In a Jupyter environment, please rerun this cell to show the HTML representation or trust the notebook. <br />On GitHub, the HTML representation is unable to render, please try loading this page with nbviewer.org.</b></div><div class=\"sk-container\" hidden><div class=\"sk-item sk-dashed-wrapped\"><div class=\"sk-label-container\"><div class=\"sk-label sk-toggleable\"><input class=\"sk-toggleable__control sk-hidden--visually\" id=\"sk-estimator-id-1\" type=\"checkbox\" ><label for=\"sk-estimator-id-1\" class=\"sk-toggleable__label sk-toggleable__label-arrow\">RandomizedSearchCV</label><div class=\"sk-toggleable__content\"><pre>RandomizedSearchCV(estimator=Pipeline(steps=[(&#x27;ordinalencoder&#x27;,\n",
              "                                              OrdinalEncoder(cols=[&#x27;player_name&#x27;,\n",
              "                                                                   &#x27;action_type&#x27;,\n",
              "                                                                   &#x27;shot_type&#x27;,\n",
              "                                                                   &#x27;shot_zone_basic&#x27;,\n",
              "                                                                   &#x27;shot_zone_area&#x27;,\n",
              "                                                                   &#x27;shot_zone_range&#x27;,\n",
              "                                                                   &#x27;htm&#x27;, &#x27;vtm&#x27;,\n",
              "                                                                   &#x27;season_type&#x27;],\n",
              "                                                             mapping=[{&#x27;col&#x27;: &#x27;player_name&#x27;,\n",
              "                                                                       &#x27;data_type&#x27;: dtype(&#x27;O&#x27;),\n",
              "                                                                       &#x27;mapping&#x27;: Stephen Curry    1\n",
              "NaN             -2\n",
              "dtype: int64},\n",
              "                                                                      {&#x27;col&#x27;: &#x27;action_type&#x27;,\n",
              "                                                                       &#x27;data_type&#x27;: dtype(&#x27;O&#x27;),\n",
              "                                                                       &#x27;mapping...\n",
              "                                              RandomForestClassifier(n_jobs=-1,\n",
              "                                                                     random_state=42))]),\n",
              "                   n_iter=3, n_jobs=-1,\n",
              "                   param_distributions={&#x27;randomforestclassifier__max_features&#x27;: [&#x27;auto&#x27;,\n",
              "                                                                                 &#x27;sqrt&#x27;],\n",
              "                                        &#x27;randomforestclassifier__min_samples_leaf&#x27;: [1,\n",
              "                                                                                     2,\n",
              "                                                                                     4],\n",
              "                                        &#x27;randomforestclassifier__min_samples_split&#x27;: [2,\n",
              "                                                                                      5,\n",
              "                                                                                      10],\n",
              "                                        &#x27;randomforestclassifier__n_estimators&#x27;: [50,\n",
              "                                                                                 80,\n",
              "                                                                                 100,\n",
              "                                                                                 150,\n",
              "                                                                                 200]},\n",
              "                   return_train_score=True, scoring=&#x27;accuracy&#x27;, verbose=10)</pre></div></div></div><div class=\"sk-parallel\"><div class=\"sk-parallel-item\"><div class=\"sk-item\"><div class=\"sk-label-container\"><div class=\"sk-label sk-toggleable\"><input class=\"sk-toggleable__control sk-hidden--visually\" id=\"sk-estimator-id-2\" type=\"checkbox\" ><label for=\"sk-estimator-id-2\" class=\"sk-toggleable__label sk-toggleable__label-arrow\">estimator: Pipeline</label><div class=\"sk-toggleable__content\"><pre>Pipeline(steps=[(&#x27;ordinalencoder&#x27;,\n",
              "                 OrdinalEncoder(cols=[&#x27;player_name&#x27;, &#x27;action_type&#x27;, &#x27;shot_type&#x27;,\n",
              "                                      &#x27;shot_zone_basic&#x27;, &#x27;shot_zone_area&#x27;,\n",
              "                                      &#x27;shot_zone_range&#x27;, &#x27;htm&#x27;, &#x27;vtm&#x27;,\n",
              "                                      &#x27;season_type&#x27;],\n",
              "                                mapping=[{&#x27;col&#x27;: &#x27;player_name&#x27;,\n",
              "                                          &#x27;data_type&#x27;: dtype(&#x27;O&#x27;),\n",
              "                                          &#x27;mapping&#x27;: Stephen Curry    1\n",
              "NaN             -2\n",
              "dtype: int64},\n",
              "                                         {&#x27;col&#x27;: &#x27;action_type&#x27;,\n",
              "                                          &#x27;data_type&#x27;: dtype(&#x27;O&#x27;),\n",
              "                                          &#x27;mapping&#x27;: Jump Shot                              1\n",
              "Step Back Jump shot                    2\n",
              "P...\n",
              "IND     8\n",
              "ORL     9\n",
              "SAS    10\n",
              "WAS    11\n",
              "PHX    12\n",
              "BOS    13\n",
              "SAC    14\n",
              "CLE    15\n",
              "MIA    16\n",
              "MIL    17\n",
              "CHI    18\n",
              "DEN    19\n",
              "NJN    20\n",
              "NOH    21\n",
              "CHA    22\n",
              "OKC    23\n",
              "DAL    24\n",
              "UTA    25\n",
              "ATL    26\n",
              "PHI    27\n",
              "DET    28\n",
              "TOR    29\n",
              "NYK    30\n",
              "BKN    31\n",
              "NOP    32\n",
              "NaN    -2\n",
              "dtype: int64},\n",
              "                                         {&#x27;col&#x27;: &#x27;season_type&#x27;,\n",
              "                                          &#x27;data_type&#x27;: dtype(&#x27;O&#x27;),\n",
              "                                          &#x27;mapping&#x27;: Regular Season    1\n",
              "Playoffs          2\n",
              "NaN              -2\n",
              "dtype: int64}])),\n",
              "                (&#x27;simpleimputer&#x27;, SimpleImputer()),\n",
              "                (&#x27;randomforestclassifier&#x27;,\n",
              "                 RandomForestClassifier(n_jobs=-1, random_state=42))])</pre></div></div></div><div class=\"sk-serial\"><div class=\"sk-item\"><div class=\"sk-serial\"><div class=\"sk-item\"><div class=\"sk-estimator sk-toggleable\"><input class=\"sk-toggleable__control sk-hidden--visually\" id=\"sk-estimator-id-3\" type=\"checkbox\" ><label for=\"sk-estimator-id-3\" class=\"sk-toggleable__label sk-toggleable__label-arrow\">OrdinalEncoder</label><div class=\"sk-toggleable__content\"><pre>OrdinalEncoder(cols=[&#x27;player_name&#x27;, &#x27;action_type&#x27;, &#x27;shot_type&#x27;,\n",
              "                     &#x27;shot_zone_basic&#x27;, &#x27;shot_zone_area&#x27;, &#x27;shot_zone_range&#x27;,\n",
              "                     &#x27;htm&#x27;, &#x27;vtm&#x27;, &#x27;season_type&#x27;],\n",
              "               mapping=[{&#x27;col&#x27;: &#x27;player_name&#x27;, &#x27;data_type&#x27;: dtype(&#x27;O&#x27;),\n",
              "                         &#x27;mapping&#x27;: Stephen Curry    1\n",
              "NaN             -2\n",
              "dtype: int64},\n",
              "                        {&#x27;col&#x27;: &#x27;action_type&#x27;, &#x27;data_type&#x27;: dtype(&#x27;O&#x27;),\n",
              "                         &#x27;mapping&#x27;: Jump Shot                              1\n",
              "Step Back Jump shot                    2\n",
              "Pullup Jump shot                       3\n",
              "Layup Shot                             4\n",
              "Jump Bank Sh...\n",
              "TOR    28\n",
              "WAS    29\n",
              "NYK    30\n",
              "BKN    31\n",
              "NOP    32\n",
              "NaN    -2\n",
              "dtype: int64},\n",
              "                        {&#x27;col&#x27;: &#x27;vtm&#x27;, &#x27;data_type&#x27;: dtype(&#x27;O&#x27;),\n",
              "                         &#x27;mapping&#x27;: HOU     1\n",
              "GSW     2\n",
              "MEM     3\n",
              "LAC     4\n",
              "MIN     5\n",
              "POR     6\n",
              "LAL     7\n",
              "IND     8\n",
              "ORL     9\n",
              "SAS    10\n",
              "WAS    11\n",
              "PHX    12\n",
              "BOS    13\n",
              "SAC    14\n",
              "CLE    15\n",
              "MIA    16\n",
              "MIL    17\n",
              "CHI    18\n",
              "DEN    19\n",
              "NJN    20\n",
              "NOH    21\n",
              "CHA    22\n",
              "OKC    23\n",
              "DAL    24\n",
              "UTA    25\n",
              "ATL    26\n",
              "PHI    27\n",
              "DET    28\n",
              "TOR    29\n",
              "NYK    30\n",
              "BKN    31\n",
              "NOP    32\n",
              "NaN    -2\n",
              "dtype: int64},\n",
              "                        {&#x27;col&#x27;: &#x27;season_type&#x27;, &#x27;data_type&#x27;: dtype(&#x27;O&#x27;),\n",
              "                         &#x27;mapping&#x27;: Regular Season    1\n",
              "Playoffs          2\n",
              "NaN              -2\n",
              "dtype: int64}])</pre></div></div></div><div class=\"sk-item\"><div class=\"sk-estimator sk-toggleable\"><input class=\"sk-toggleable__control sk-hidden--visually\" id=\"sk-estimator-id-4\" type=\"checkbox\" ><label for=\"sk-estimator-id-4\" class=\"sk-toggleable__label sk-toggleable__label-arrow\">SimpleImputer</label><div class=\"sk-toggleable__content\"><pre>SimpleImputer()</pre></div></div></div><div class=\"sk-item\"><div class=\"sk-estimator sk-toggleable\"><input class=\"sk-toggleable__control sk-hidden--visually\" id=\"sk-estimator-id-5\" type=\"checkbox\" ><label for=\"sk-estimator-id-5\" class=\"sk-toggleable__label sk-toggleable__label-arrow\">RandomForestClassifier</label><div class=\"sk-toggleable__content\"><pre>RandomForestClassifier(n_jobs=-1, random_state=42)</pre></div></div></div></div></div></div></div></div></div></div></div></div>"
            ]
          },
          "metadata": {},
          "execution_count": 56
        }
      ]
    },
    {
      "cell_type": "code",
      "source": [
        "train_acc = search.score(X_train, y_train)\n",
        "val_acc = search.score(X_val, y_val)\n",
        "test_acc = search.score(X_test, y_test)\n",
        "print('Training Accuracy Score:', train_acc)\n",
        "print('Validation Accuracy Score:', val_acc)\n",
        "print('Test Accuracy Score:', test_acc)"
      ],
      "metadata": {
        "colab": {
          "base_uri": "https://localhost:8080/"
        },
        "id": "057DxALAHasd",
        "outputId": "fdf53382-2dae-454d-c2a0-7c04e97c67d4"
      },
      "execution_count": 60,
      "outputs": [
        {
          "output_type": "stream",
          "name": "stdout",
          "text": [
            "Training Accuracy Score: 0.9296092410432272\n",
            "Validation Accuracy Score: 0.6053082191780822\n",
            "Test Accuracy Score: 0.6372147454651843\n"
          ]
        }
      ]
    },
    {
      "cell_type": "code",
      "source": [
        "print('Best hyperparameters', search.best_params_)\n",
        "print('Cross-validation MAE', -search.best_score_)"
      ],
      "metadata": {
        "colab": {
          "base_uri": "https://localhost:8080/"
        },
        "id": "y6OpB1ZcIgxf",
        "outputId": "736e2fb3-91c7-4757-ebc1-845302a313fb"
      },
      "execution_count": 58,
      "outputs": [
        {
          "output_type": "stream",
          "name": "stdout",
          "text": [
            "Best hyperparameters {'randomforestclassifier__n_estimators': 80, 'randomforestclassifier__min_samples_split': 5, 'randomforestclassifier__min_samples_leaf': 4, 'randomforestclassifier__max_features': 'auto'}\n",
            "Cross-validation MAE -0.6415473067484763\n"
          ]
        }
      ]
    },
    {
      "cell_type": "markdown",
      "metadata": {
        "id": "Uq_2gmHNa3mH"
      },
      "source": [
        "**Task 8 Testing**"
      ]
    },
    {
      "cell_type": "code",
      "execution_count": null,
      "metadata": {
        "deletable": false,
        "editable": false,
        "nbgrader": {
          "cell_type": "code",
          "checksum": "5df35b3427a424bbd241572de6eda57b",
          "grade": true,
          "grade_id": "cell-6028e9cba0fc28d3",
          "locked": true,
          "points": 0,
          "schema_version": 3,
          "solution": false,
          "task": false
        },
        "id": "fsArhPPoa3mI"
      },
      "outputs": [],
      "source": [
        "'''T8 Testing'''\n",
        "assert isinstance(test_acc, float)\n",
        "assert 0.0 <= test_acc <= 1.0"
      ]
    },
    {
      "cell_type": "markdown",
      "metadata": {
        "deletable": false,
        "editable": false,
        "nbgrader": {
          "cell_type": "markdown",
          "checksum": "8db3430fd99f6657dd83938a0d536c1e",
          "grade": false,
          "grade_id": "cell-0e008b7c42ac3b70",
          "locked": true,
          "schema_version": 3,
          "solution": false,
          "task": false
        },
        "id": "w4JE4if_a3mI"
      },
      "source": [
        "# VII. Communication\n",
        "\n",
        "**Task 9:** Below is a confusion matrix for the model that your instructor made for this challenge (based on the **test data**). Calculate the precision and recall of this model, naming them `instructor_precision` and `instructor_recall`, respectively.\n",
        "\n",
        "![](data:image/png;base64,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)"
      ]
    },
    {
      "cell_type": "code",
      "execution_count": 61,
      "metadata": {
        "deletable": false,
        "nbgrader": {
          "cell_type": "code",
          "checksum": "b8ae36a67a4ab9283a7f843d9697c57d",
          "grade": false,
          "grade_id": "cell-83509e08a73e81b5",
          "locked": false,
          "schema_version": 3,
          "solution": true,
          "task": false
        },
        "id": "psyjWfHMa3mM",
        "colab": {
          "base_uri": "https://localhost:8080/"
        },
        "outputId": "64cdbece-2a47-44b3-9c1e-78b8ab1eccc6"
      },
      "outputs": [
        {
          "output_type": "stream",
          "name": "stdout",
          "text": [
            "Instuctor model precision 0.5816216216216217\n",
            "Instuctor model recall 0.6750313676286073\n"
          ]
        }
      ],
      "source": [
        "'''T9. Calculate precision and recall'''\n",
        "# YOUR CODE HERE\n",
        "instructor_precision = 538 / (538 + 387)\n",
        "instructor_recall = 538 / (538 + 259)\n",
        "print('Instuctor model precision', instructor_precision)\n",
        "print('Instuctor model recall', instructor_recall)"
      ]
    },
    {
      "cell_type": "markdown",
      "metadata": {
        "deletable": false,
        "editable": false,
        "nbgrader": {
          "cell_type": "markdown",
          "checksum": "48c102d0b0ca01e1a1a84f2b31437358",
          "grade": false,
          "grade_id": "cell-f312715b3057666e",
          "locked": true,
          "schema_version": 3,
          "solution": false,
          "task": false
        },
        "id": "fEmg_quRa3mM"
      },
      "source": [
        "**Task 9 Testing**"
      ]
    },
    {
      "cell_type": "code",
      "execution_count": null,
      "metadata": {
        "deletable": false,
        "editable": false,
        "nbgrader": {
          "cell_type": "code",
          "checksum": "c303f6e8a1ad2f81e090a7f304d6a474",
          "grade": true,
          "grade_id": "cell-ec6f47b7dca9966b",
          "locked": true,
          "points": 1,
          "schema_version": 3,
          "solution": false,
          "task": false
        },
        "id": "ff1-m0-Za3mN"
      },
      "outputs": [],
      "source": [
        "'''T9 Testing'''\n",
        "assert isinstance(instructor_precision, float)\n",
        "assert isinstance(instructor_recall, float)\n",
        "assert 0 <= instructor_precision <= 1\n",
        "assert 0 <= instructor_recall <= 1"
      ]
    },
    {
      "cell_type": "markdown",
      "metadata": {
        "deletable": false,
        "editable": false,
        "id": "gREDVKaGOUrz",
        "nbgrader": {
          "cell_type": "markdown",
          "checksum": "3e1b9d74a856e492e1c5b1c630fa8cfc",
          "grade": false,
          "grade_id": "cell-235fe09bb4f2bda6",
          "locked": true,
          "schema_version": 3,
          "solution": false,
          "task": false
        }
      },
      "source": [
        "**Task 10 (`stretch goal — optional`):** Plot confusion matrix for your model using your **test data**.\n",
        "\n",
        "This task will not be autograded - but it is part of completing the challenge."
      ]
    },
    {
      "cell_type": "code",
      "execution_count": 62,
      "metadata": {
        "deletable": false,
        "id": "W9_4caTROUrz",
        "nbgrader": {
          "cell_type": "code",
          "checksum": "43e2179a73f1d179803ed2ec2a3c97a8",
          "grade": false,
          "grade_id": "225SC_06_a",
          "locked": false,
          "schema_version": 3,
          "solution": true,
          "task": false
        },
        "colab": {
          "base_uri": "https://localhost:8080/",
          "height": 466
        },
        "outputId": "3fa8e467-a471-4243-b356-758bc9be8443"
      },
      "outputs": [
        {
          "output_type": "execute_result",
          "data": {
            "text/plain": [
              "<sklearn.metrics._plot.confusion_matrix.ConfusionMatrixDisplay at 0x7c5f5e596e60>"
            ]
          },
          "metadata": {},
          "execution_count": 62
        },
        {
          "output_type": "display_data",
          "data": {
            "text/plain": [
              "<Figure size 640x480 with 2 Axes>"
            ],
            "image/png": "[encoded data removed]"
          },
          "metadata": {}
        }
      ],
      "source": [
        "'''T10. Plot ROC curve.'''\n",
        "# YOUR CODE HERE\n",
        "from sklearn.metrics import ConfusionMatrixDisplay, classification_report\n",
        "ConfusionMatrixDisplay.from_estimator(search, X_test, y_test)"
      ]
    },
    {
      "cell_type": "code",
      "source": [
        "print(classification_report(y_test, search.predict(X_test)))"
      ],
      "metadata": {
        "colab": {
          "base_uri": "https://localhost:8080/"
        },
        "id": "jMRBrr63MWCM",
        "outputId": "38043ab8-83e9-47dd-fc02-ba1766841fe3"
      },
      "execution_count": 64,
      "outputs": [
        {
          "output_type": "stream",
          "name": "stdout",
          "text": [
            "              precision    recall  f1-score   support\n",
            "\n",
            "           0       0.66      0.65      0.66       912\n",
            "           1       0.61      0.62      0.61       797\n",
            "\n",
            "    accuracy                           0.64      1709\n",
            "   macro avg       0.64      0.64      0.64      1709\n",
            "weighted avg       0.64      0.64      0.64      1709\n",
            "\n"
          ]
        }
      ]
    },
    {
      "cell_type": "code",
      "source": [
        "sk_precision = 495 / (495 + 318)\n",
        "sk_recall = 495  / (495 + 302)\n",
        "print('SK model precision', sk_precision)\n",
        "print('SK model recall', sk_recall)"
      ],
      "metadata": {
        "colab": {
          "base_uri": "https://localhost:8080/"
        },
        "id": "utUWESTTMn6Q",
        "outputId": "5e9dba3d-7080-4385-867b-e9618f69c0e9"
      },
      "execution_count": 66,
      "outputs": [
        {
          "output_type": "stream",
          "name": "stdout",
          "text": [
            "SK model precision 0.6088560885608856\n",
            "SK model recall 0.6210790464240903\n"
          ]
        }
      ]
    }
  ],
  "metadata": {
    "colab": {
      "provenance": [],
      "include_colab_link": true
    },
    "kernelspec": {
      "display_name": "Python 3",
      "language": "python",
      "name": "python3"
    },
    "language_info": {
      "codemirror_mode": {
        "name": "ipython",
        "version": 3
      },
      "file_extension": ".py",
      "mimetype": "text/x-python",
      "name": "python",
      "nbconvert_exporter": "python",
      "pygments_lexer": "ipython3",
      "version": "3.8.8"
    }
  },
  "nbformat": 4,
  "nbformat_minor": 0
}